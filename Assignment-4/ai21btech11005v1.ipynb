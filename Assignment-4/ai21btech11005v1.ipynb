{
 "cells": [
  {
   "cell_type": "code",
   "execution_count": 1,
   "id": "d2460c56",
   "metadata": {},
   "outputs": [
    {
     "data": {
      "application/javascript": [
       "MathJax.Hub.Config({\n",
       "    TeX: { equationNumbers: { autoNumber: \"AMS\" } }\n",
       "});\n"
      ],
      "text/plain": [
       "<IPython.core.display.Javascript object>"
      ]
     },
     "metadata": {},
     "output_type": "display_data"
    }
   ],
   "source": [
    "%%javascript\n",
    "MathJax.Hub.Config({\n",
    "    TeX: { equationNumbers: { autoNumber: \"AMS\" } }\n",
    "});"
   ]
  },
  {
   "cell_type": "code",
   "execution_count": 2,
   "id": "0fd51dcd",
   "metadata": {},
   "outputs": [],
   "source": [
    "import numpy as np\n",
    "from tqdm.notebook import tqdm\n",
    "import random\n",
    "import time\n",
    "import matplotlib.pyplot as plt\n",
    "np.random.seed(0)"
   ]
  },
  {
   "cell_type": "code",
   "execution_count": 3,
   "id": "26a47beb",
   "metadata": {},
   "outputs": [],
   "source": [
    "def sech2(x):\n",
    "    return (2/(np.exp(x)+np.exp(-x)))**2"
   ]
  },
  {
   "cell_type": "code",
   "execution_count": 4,
   "id": "c7d3e92b",
   "metadata": {},
   "outputs": [],
   "source": [
    "def sig(x):\n",
    "    return 1/(1+np.exp(-x))"
   ]
  },
  {
   "cell_type": "code",
   "execution_count": 5,
   "id": "7ad1a1f1",
   "metadata": {},
   "outputs": [],
   "source": [
    "def sigdash(x):\n",
    "    return sig(x)*(1-sig(x))"
   ]
  },
  {
   "cell_type": "code",
   "execution_count": 6,
   "id": "5034cda1",
   "metadata": {},
   "outputs": [],
   "source": [
    "X_train = []\n",
    "X_val = []\n",
    "X_test = []\n",
    "y_train = np.zeros(5000)\n",
    "y_val = np.zeros(1000)\n",
    "y_test = np.zeros(1000)"
   ]
  },
  {
   "cell_type": "code",
   "execution_count": 7,
   "id": "a9f4e523",
   "metadata": {},
   "outputs": [],
   "source": [
    "#DataSet Creation \n",
    "for i in range(7000):\n",
    "    size = random.randint(1,10)\n",
    "    data = np.random.random((size,2))\n",
    "    pos2 = np.zeros(size)\n",
    "    pos = np.random.randint(size,size=2)\n",
    "    pos2[pos]=1\n",
    "    data[:,1] = pos2\n",
    "    if i<5000:\n",
    "        X_train.append(data)\n",
    "        y_train[i] = np.sum(data[[pos],0])\n",
    "    elif i>=5000 and i<6000:\n",
    "        X_val.append(data)\n",
    "        y_val[i-5000] = np.sum(data[[pos],0])\n",
    "    else:\n",
    "        X_test.append(data)\n",
    "        y_test[i-6000] = np.sum(data[[pos],0])"
   ]
  },
  {
   "cell_type": "markdown",
   "id": "3c5cd97b",
   "metadata": {},
   "source": [
    "# Elman RNN"
   ]
  },
  {
   "cell_type": "code",
   "execution_count": 90,
   "id": "43ed932e",
   "metadata": {},
   "outputs": [],
   "source": [
    "#RNN Model\n",
    "class RNN:\n",
    "    def __init__(self):\n",
    "        super(RNN, self).__init__()  \n",
    "        self.U = np.random.random((1,X_train[0].shape[1]))\n",
    "        self.V = np.random.random(1)\n",
    "        self.W = np.random.random(1)\n",
    "        self.bh = np.random.random(1)\n",
    "        self.by = np.random.random(1)\n",
    "        self.df = []\n",
    "    \n",
    "    def FP(self,x):\n",
    "        h = np.zeros(x.shape[0]+1)\n",
    "        for i in range(x.shape[0]):\n",
    "            innerval = (self.U@x[i,:].T) + (self.W*h[i]) + self.bh\n",
    "            h[i+1] = np.tanh(innerval)\n",
    "        return self.V*h[-1] + self.by\n",
    "    \n",
    "    def predict(self,X_testset):\n",
    "        output = np.zeros(len(X_testset))\n",
    "        for i in range(output.shape[0]):\n",
    "            output[i] = self.FP(X_testset[i])\n",
    "        return output    \n",
    "    \n",
    "    def MSE(self,X_testset,y_testset):\n",
    "        return np.mean((y_testset-self.predict(X_testset))**2)\n",
    "    \n",
    "        \n",
    "    def train(self,X_train,y_train,epochs=None,lr=None):\n",
    "        if epochs is None:\n",
    "            epochs = 10\n",
    "        if lr is None:\n",
    "            lr=0.001  \n",
    "         \n",
    "        for epoch in tqdm(range(epochs)):\n",
    "            \n",
    "            for j in range(y_train.shape[0]):\n",
    "\n",
    "                h = np.zeros(X_train[j].shape[0]+1)\n",
    "                X = X_train[j]\n",
    "\n",
    "                #H[0,1,2.....n] : size = n+1\n",
    "                #dhj/dhj-1 = [0]dh1/dh0, [1]dh2/dh1........dhn/dhn-1 : size = n\n",
    "                #dhj/dW = [0]dh1/dW, [1]dh2/dW......dhn/dW : size = n\n",
    "                dhjdW = np.zeros(X.shape[0])\n",
    "                dhjdhj_1 = np.zeros(X.shape[0])\n",
    "                dhjdU = np.zeros((X.shape[0],2))\n",
    "                dhjdbh = np.zeros(X.shape[0])\n",
    "                \n",
    "                for i in range(X.shape[0]):\n",
    "                    innerval = (self.U@X[i,:].T) + (self.W*h[i]) + self.bh\n",
    "                    h[i+1] = np.tanh(innerval)\n",
    "                    secant = sech2(innerval)\n",
    "                    dhjdhj_1[i] =  secant * self.W \n",
    "                    dhjdW[i] = secant * h[i]\n",
    "                    dhjdU[i] = secant * X[i,:].T\n",
    "                    dhjdbh[i] = secant\n",
    "\n",
    "                    \n",
    "                yp = (self.V*h[-1]) + self.by\n",
    "\n",
    "\n",
    "                dLdV = -2*(y_train[j]-yp)*h[-1]   \n",
    "                dLdhn = -2*self.V*(y_train[j]-yp)\n",
    "                dLdby = -2*(y_train[j]-yp)\n",
    "\n",
    "                \n",
    "                product = np.zeros(X.shape[0])\n",
    "                product[:-1] = np.cumprod(dhjdhj_1[1:][::-1])[::-1]\n",
    "                dLdW = np.sum(dLdhn * product * dhjdW)\n",
    "                dLdU = np.sum(dLdhn * np.dstack([product]*2) * dhjdU) \n",
    "                dLdbh = np.sum(dLdhn * product * dhjdbh)\n",
    "                \n",
    "                \n",
    "                self.U -= lr*dLdU    \n",
    "                self.V -= lr*dLdV\n",
    "                self.W -= lr*dLdW\n",
    "                self.by -= lr*dLdby\n",
    "                self.bh -= lr*dLdbh\n",
    "            self.df.append([epoch,self.MSE(X_train,y_train)])"
   ]
  },
  {
   "cell_type": "code",
   "execution_count": 96,
   "id": "c9aa5805",
   "metadata": {},
   "outputs": [],
   "source": [
    "model = RNN()"
   ]
  },
  {
   "cell_type": "code",
   "execution_count": 97,
   "id": "5bbfb78b",
   "metadata": {},
   "outputs": [
    {
     "data": {
      "text/plain": [
       "0.3111325378651809"
      ]
     },
     "execution_count": 97,
     "metadata": {},
     "output_type": "execute_result"
    }
   ],
   "source": [
    "model.MSE(X_val,y_val)"
   ]
  },
  {
   "cell_type": "code",
   "execution_count": 98,
   "id": "8446bc96",
   "metadata": {},
   "outputs": [
    {
     "data": {
      "application/vnd.jupyter.widget-view+json": {
       "model_id": "5b8f298a09464353895eee09d71eff2d",
       "version_major": 2,
       "version_minor": 0
      },
      "text/plain": [
       "  0%|          | 0/100 [00:00<?, ?it/s]"
      ]
     },
     "metadata": {},
     "output_type": "display_data"
    }
   ],
   "source": [
    "model.train(X_train,y_train,epochs=100,lr=1e-2)"
   ]
  },
  {
   "cell_type": "code",
   "execution_count": 99,
   "id": "2aedc4dd",
   "metadata": {},
   "outputs": [
    {
     "data": {
      "text/plain": [
       "0.2144762511365601"
      ]
     },
     "execution_count": 99,
     "metadata": {},
     "output_type": "execute_result"
    }
   ],
   "source": [
    "model.MSE(X_val,y_val)"
   ]
  },
  {
   "cell_type": "code",
   "execution_count": 100,
   "id": "07b5385c",
   "metadata": {},
   "outputs": [
    {
     "data": {
      "text/plain": [
       "[<matplotlib.lines.Line2D at 0x7f11055f94e0>]"
      ]
     },
     "execution_count": 100,
     "metadata": {},
     "output_type": "execute_result"
    },
    {
     "data": {
      "image/png": "[encoded data removed]",
      "text/plain": [
       "<Figure size 640x480 with 1 Axes>"
      ]
     },
     "metadata": {},
     "output_type": "display_data"
    }
   ],
   "source": [
    "benchmark = model.df\n",
    "benchmark = np.array(benchmark)\n",
    "plt.plot(benchmark[:,0],benchmark[:,1])"
   ]
  },
  {
   "cell_type": "markdown",
   "id": "af5c132c",
   "metadata": {},
   "source": [
    "# LSTM"
   ]
  },
  {
   "cell_type": "markdown",
   "id": "0e05a898",
   "metadata": {},
   "source": [
    "## Calculating $\\frac{\\partial L}{\\partial W}$\n",
    "$\n",
    "\\begin{align}\n",
    "h_t &= o_t \\odot \\sigma(S_t)\\\\\n",
    "S_t &= f_t\\odot S_{t-1} + i_t \\odot \\tilde{S_t}\\\\\n",
    "\\frac{\\partial h_t}{\\partial S_t} &= o_t \\odot \\sigma'(S_t)\\\\\n",
    "\\frac{\\partial h_t}{\\partial h_{t-1}} &= W_o\\sigma'(W_oh_{t-1}+U_o x_t +b_o) \\odot \\sigma(S_t) + \\sigma(W_oh_{t-1}+U_o x_t +b_o) \\odot \\sigma'(S_t)\\cdot \\frac{\\partial S_t}{\\partial h_{t-1}}\n",
    "\\end{align}\n",
    "$"
   ]
  },
  {
   "cell_type": "markdown",
   "id": "806d1902",
   "metadata": {},
   "source": [
    "$\n",
    "\\begin{align}\n",
    "\\frac{\\partial S_t}{\\partial h_{t-1}} &= W_f \\sigma'(W_fh_{t-1}+U_f x_t +b_f)\\odot S_{t-1} + W_i\\sigma'(W_ih_{t-1}+U_i x_t +b_i) \\odot \\sigma(Wh_{t-1}+U x_t +b) + \\sigma(W_ih_{t-1}+U_i x_t +b_i)\\odot W\\sigma'(Wh_{t-1}+U x_t +b)\n",
    "\\end{align}\n",
    "$"
   ]
  },
  {
   "cell_type": "markdown",
   "id": "ec844d8f",
   "metadata": {},
   "source": [
    "$\n",
    "\\begin{align}\n",
    "\\frac{\\partial S_t}{\\partial S_{t-1}} &= \\frac{\\partial f_t}{\\partial S_{t-1}} \\odot S_{t-1} + f_t + \\frac{\\partial i_t}{\\partial S_{t-1}} \\odot \\tilde{S_{t}} + i_t \\odot \\frac{\\partial \\tilde{S_t}}{\\partial S_{t-1}} \\\\\n",
    "\\frac{\\partial f_t}{\\partial S_{t-1}} &= f_t' \\cdot W_f \\cdot \\frac{\\partial h_{t-1}}{\\partial S_{t-1}}\n",
    "\\end{align}\n",
    "$\n",
    "\n",
    "But we know that $\\frac{\\partial h_t}{\\partial S_t} = o_t \\odot \\sigma'(S_t)$. So,\n",
    "\n",
    "$\n",
    "\\begin{align}\n",
    "\\frac{\\partial f_t}{\\partial S_{t-1}} &= f_t' \\cdot W_f \\cdot o_{t-1} \\odot \\sigma'(S_{t-1})\n",
    "\\end{align}\n",
    "$\n",
    "Parallely,\n",
    "$\n",
    "\\begin{align}\n",
    "\\frac{\\partial i_t}{\\partial S_{t-1}} &= i_t' \\cdot W_i\\cdot o_{t-1} \\odot \\sigma'(S_{t-1})\\\\\n",
    "\\frac{\\partial \\tilde{S_t}}{\\partial S_{t-1}} &= \\tilde{S_t}' \\cdot W\\cdot o_{t-1} \\odot \\sigma'(S_{t-1})\n",
    "\\end{align}\n",
    "$"
   ]
  },
  {
   "cell_type": "markdown",
   "id": "9bada725",
   "metadata": {},
   "source": [
    "$\n",
    "\\begin{align}\n",
    "\\therefore \\frac{\\partial S_t}{\\partial S_{t-1}} &= f_t' \\cdot W_f \\cdot o_{t-1} \\odot \\sigma'(S_{t-1}) \\odot S_{t-1} + f_t + i_t' \\cdot W_i\\cdot o_{t-1} \\odot \\sigma'(S_{t-1})\\odot \\tilde{S_{t}} + i_t \\odot \\tilde{S_t}' \\cdot W\\cdot o_{t-1} \\odot \\sigma'(S_{t-1})\n",
    "\\end{align}\n",
    "$"
   ]
  },
  {
   "cell_type": "markdown",
   "id": "8c6a4b43",
   "metadata": {},
   "source": [
    "## Selective Write/ Output gate"
   ]
  },
  {
   "cell_type": "markdown",
   "id": "df4e5e63",
   "metadata": {},
   "source": [
    "$\n",
    "\\begin{align}\n",
    "\\frac{\\partial h_t}{\\partial o_t} &= \\sigma(S_t) \\\\\n",
    "\\frac{\\partial h_t}{\\partial W_o} &= \\frac{\\partial h_t}{\\partial o_t} \\cdot \\frac{\\partial o_t}{\\partial W_o} = \\sigma(S_t) \\cdot h_{t-1}\\sigma'(W_oh_{t-1}+U_o x_t +b_o)\\\\\n",
    "\\frac{\\partial h_t}{\\partial U_o} &= \\frac{\\partial h_t}{\\partial o_t} \\cdot \\frac{\\partial o_t}{\\partial U_o} = \\sigma(S_t) \\cdot x_t\\sigma'(W_oh_{t-1}+U_o x_t +b_o)\\\\\n",
    "\\frac{\\partial h_t}{\\partial b_o} &= \\frac{\\partial h_t}{\\partial o_t} \\cdot \\frac{\\partial o_t}{\\partial b_o} = \\sigma(S_t) \\cdot \\sigma'(W_oh_{t-1}+U_o x_t +b_o)\n",
    "\\end{align}\n",
    "$"
   ]
  },
  {
   "cell_type": "markdown",
   "id": "371c6739",
   "metadata": {},
   "source": [
    "## Selective Read/ Input gate"
   ]
  },
  {
   "cell_type": "markdown",
   "id": "5a53c456",
   "metadata": {},
   "source": [
    "$\n",
    "\\begin{align}\n",
    "\\frac{\\partial h_t}{\\partial i_t} &=  \\frac{\\partial h_t}{\\partial S_t} \\cdot \\frac{\\partial S_t}{\\partial i_t} = o_t \\odot \\sigma'(S_t) \\cdot \\tilde{S_t}\\\\\n",
    "\\frac{\\partial h_t}{\\partial W_i} &= \\frac{\\partial h_t}{\\partial i_t} \\cdot \\frac{\\partial i_t}{\\partial W_i} = o_t \\odot \\sigma'(S_t) \\cdot \\tilde{S_t} \\cdot h_{t-1}\\sigma'(W_ih_{t-1}+U_i x_t +b_i)\\\\\n",
    "\\frac{\\partial h_t}{\\partial U_i} &= \\frac{\\partial h_t}{\\partial i_t} \\cdot \\frac{\\partial i_t}{\\partial U_i} = o_t \\odot \\sigma'(S_t) \\cdot \\tilde{S_t} \\cdot x_t\\sigma'(W_ih_{t-1}+U_i x_t +b_i)\\\\\n",
    "\\frac{\\partial h_t}{\\partial b_i} &= \\frac{\\partial h_t}{\\partial i_t} \\cdot \\frac{\\partial i_t}{\\partial b_i} = o_t \\odot \\sigma'(S_t) \\cdot \\tilde{S_t} \\cdot \\sigma'(W_ih_{t-1}+U_i x_t +b_i)\n",
    "\\end{align}\n",
    "$"
   ]
  },
  {
   "cell_type": "markdown",
   "id": "7471519c",
   "metadata": {},
   "source": [
    "## Selective Forget/ Forget gate"
   ]
  },
  {
   "cell_type": "markdown",
   "id": "19ab1111",
   "metadata": {},
   "source": [
    "$\n",
    "\\begin{align}\n",
    "\\frac{\\partial h_t}{\\partial f_t} &= \\frac{\\partial h_t}{\\partial S_t} \\cdot \\frac{\\partial S_t}{\\partial f_t}= o_t \\odot \\sigma'(S_t) \\cdot S_{t-1} \\\\\n",
    "\\frac{\\partial h_t}{\\partial W_f} &= \\frac{\\partial h_t}{\\partial f_t} \\cdot \\frac{\\partial f_t}{\\partial W_f} = o_t \\odot \\sigma'(S_t) \\cdot S_{t-1} \\cdot h_{t-1}\\sigma'(W_fh_{t-1}+U_f x_t +b_f)\\\\\n",
    "\\frac{\\partial h_t}{\\partial U_f} &= \\frac{\\partial h_t}{\\partial f_t} \\cdot \\frac{\\partial f_t}{\\partial U_f} = o_t \\odot \\sigma'(S_t) \\cdot S_{t-1} \\cdot x_t\\sigma'(W_fh_{t-1}+U_f x_t +b_f)\\\\\n",
    "\\frac{\\partial h_t}{\\partial b_f} &= \\frac{\\partial h_t}{\\partial f_t} \\cdot \\frac{\\partial f_t}{\\partial b_f} = o_t \\odot \\sigma'(S_t) \\cdot S_{t-1} \\cdot \\sigma'(W_fh_{t-1}+U_f x_t +b_f)\n",
    "\\end{align}\n",
    "$"
   ]
  },
  {
   "cell_type": "markdown",
   "id": "a2d04bb7",
   "metadata": {},
   "source": [
    "### Using the same equations of RNN for LSTM,"
   ]
  },
  {
   "cell_type": "markdown",
   "id": "5f704027",
   "metadata": {},
   "source": [
    "$\n",
    "\\begin{align}\n",
    "\\frac{\\partial L}{\\partial W} &=  \\sum_{k=2}^{n}\\frac{\\partial L}{\\partial h_k}\\frac{\\partial h_k} {\\partial S_{k}} \\left( \\prod_{j=3}^{k} \\frac{\\partial S_j} {\\partial S_{j-1}} \\right)\\frac{\\partial S_2}{\\partial W}\\\\\n",
    "&= \\sum_{k=2}^{n}\\frac{\\partial L}{\\partial h_n}\\frac{\\partial h_n} {\\partial h_{k}}\\frac{\\partial h_k} {\\partial S_{k}} \\left( \\prod_{j=3}^{k} \\frac{\\partial S_j} {\\partial S_{j-1}} \\right)\\frac{\\partial S_2}{\\partial W}\\\\\n",
    "\\frac{\\partial L}{\\partial h_n} &= -2(y-h_n)\\\\\n",
    "\\frac{\\partial h_n}{\\partial h_k} &= \\prod_{j=k+1}^n \\frac{\\partial h_j}{\\partial h_{j-1}}\\\\\n",
    "\\frac{\\partial S_2}{\\partial W} &= i_2 \\odot \\tilde{S_2'}\\cdot h_1\n",
    "\\end{align}\n",
    "$"
   ]
  },
  {
   "cell_type": "markdown",
   "id": "602be8b7",
   "metadata": {},
   "source": [
    "### Now, we have everything to calculate $\\frac{\\partial L}{\\partial W}$"
   ]
  },
  {
   "cell_type": "markdown",
   "id": "c20deb59",
   "metadata": {},
   "source": [
    "# Using the same equation for $\\frac{\\partial L}{\\partial b}$ which we used for $ \\frac{\\partial L}{\\partial W}$ "
   ]
  },
  {
   "cell_type": "markdown",
   "id": "bd9d7055",
   "metadata": {},
   "source": [
    "$\n",
    "\\begin{align}\n",
    "\\frac{\\partial L}{\\partial b} &=  \\sum_{k=2}^{n}\\frac{\\partial L}{\\partial h_k}\\frac{\\partial h_k} {\\partial S_{k}} \\left( \\prod_{j=2}^{k} \\frac{\\partial S_j} {\\partial S_{j-1}} \\right)\\frac{\\partial S_1}{\\partial b}\\\\\n",
    "&= \\sum_{k=2}^{n}\\frac{\\partial L}{\\partial h_n}\\frac{\\partial h_n} {\\partial h_{k}}\\frac{\\partial h_k} {\\partial S_{k}} \\left( \\prod_{j=2}^{k} \\frac{\\partial S_j} {\\partial S_{j-1}} \\right)\\frac{\\partial S_1}{\\partial b}\\\\\n",
    "\\frac{\\partial S_1}{\\partial b} &= i_1 \\odot \\tilde{S_1'}\n",
    "\\end{align}\n",
    "$"
   ]
  },
  {
   "cell_type": "markdown",
   "id": "c96171b0",
   "metadata": {},
   "source": [
    "# Using the same equation for $\\frac{\\partial L}{\\partial U}$ which we used for $ \\frac{\\partial L}{\\partial W}$ "
   ]
  },
  {
   "cell_type": "markdown",
   "id": "a7f97024",
   "metadata": {},
   "source": [
    "$\n",
    "\\begin{align}\n",
    "\\frac{\\partial L}{\\partial U} &=  \\sum_{k=2}^{n}\\frac{\\partial L}{\\partial h_k}\\frac{\\partial h_k} {\\partial S_{k}} \\left( \\prod_{j=2}^{k} \\frac{\\partial S_j} {\\partial S_{j-1}} \\right)\\frac{\\partial S_1}{\\partial U}\\\\\n",
    "&= \\sum_{k=2}^{n}\\frac{\\partial L}{\\partial h_n}\\frac{\\partial h_n} {\\partial h_{k}}\\frac{\\partial h_k} {\\partial S_{k}} \\left( \\prod_{j=2}^{k} \\frac{\\partial S_j} {\\partial S_{j-1}} \\right)\\frac{\\partial S_1}{\\partial U}\\\\\n",
    "\\frac{\\partial S_1}{\\partial U} &= i_1 \\odot \\tilde{S_1'} \\cdot x_1\n",
    "\\end{align}\n",
    "$"
   ]
  },
  {
   "cell_type": "markdown",
   "id": "98948092",
   "metadata": {},
   "source": []
  },
  {
   "cell_type": "code",
   "execution_count": 235,
   "id": "59b79171",
   "metadata": {},
   "outputs": [],
   "source": [
    "#LSTM Model\n",
    "class LSTM():\n",
    "    def __init__(self):\n",
    "        self.W = np.random.random(1)\n",
    "        self.Wo = np.random.random(1)\n",
    "        self.Wi = np.random.random(1)\n",
    "        self.Wf = np.random.random(1)\n",
    "        self.U = np.random.random((1,X_train[0].shape[1]))\n",
    "        self.Uo = np.random.random((1,X_train[0].shape[1]))\n",
    "        self.Ui = np.random.random((1,X_train[0].shape[1]))\n",
    "        self.Uf = np.random.random((1,X_train[0].shape[1]))\n",
    "        self.b = np.random.random(1)\n",
    "        self.bo = np.random.random(1)\n",
    "        self.bi = np.random.random(1)\n",
    "        self.bf = np.random.random(1)\n",
    "        self.df = []\n",
    "        \n",
    "    def _FP(self,x) :\n",
    "        h = np.zeros(x.shape[0]+1)\n",
    "        #st = [0]s0,[1]s1,[2]s2,.....[n]sn\n",
    "        st = np.zeros(x.shape[0]+1)\n",
    "        for i in range(x.shape[0]):\n",
    "            #ot = [0]o1,[1]o2.....on\n",
    "            #h = [0]h0,[1]h1...[n+1]hn\n",
    "            #x = [0]x1,[1]x2....[n-1]xn\n",
    "            #Gates\n",
    "            ot = sig((self.Wo*h[i]) + (self.Uo@x[i,:].T) + self.bo)\n",
    "            ft = sig((self.Wf*h[i]) + (self.Uf@x[i,:].T) + self.bf)\n",
    "            it = sig((self.Wi*h[i]) + (self.Ui@x[i,:].T) + self.bi)    \n",
    "            \n",
    "            \n",
    "            #States\n",
    "            stTilda = sig((self.W*h[i]) + (self.U@x[i,:].T) + self.b)\n",
    "            st[i+1] = (ft * st[i]) + (it * stTilda)\n",
    "            h[i+1] = ot * sig(st[i+1])\n",
    "        return h,st\n",
    "        \n",
    "        \n",
    "    def FP(self,x):        \n",
    "        h,_ = self._FP(x)\n",
    "        return h[-1]\n",
    "        \n",
    "    def predict(self,X_testset):\n",
    "        output = np.zeros(len(X_testset))\n",
    "        for i in range(output.shape[0]):\n",
    "            output[i] = self.FP(X_testset[i])\n",
    "        return output    \n",
    "    \n",
    "    \n",
    "    def MSE(self,X_testset,y_testset):\n",
    "        return np.mean((y_testset-self.predict(X_testset))**2)\n",
    "    \n",
    "    def train(self,X_train,y_train,epochs=None,lr=None):\n",
    "        if epochs is None:\n",
    "            epochs = 10\n",
    "        if lr is None:\n",
    "            lr=20 \n",
    "         \n",
    "        for epoch in tqdm(range(epochs)):\n",
    "            \n",
    "            # z => zth datapoint\n",
    "            for z in range(y_train.shape[0]):\n",
    "                \n",
    "                h,st = self._FP(X_train[z])\n",
    "                \n",
    "                x = X_train[z]\n",
    "                \n",
    "                #dStdht_1 => dS1/dh0 , dS2/dh1 .....\n",
    "                  \n",
    "    \n",
    "                dStdht_1 = st[:-1] * self.Wf * sigdash((self.Wf*h[:-1]) + (self.Uf@x.T) + self.bf) \\\n",
    "                            + \\\n",
    "                            (self.Wi*sig((self.W*h[:-1]) + (self.U@x.T) + \\\n",
    "                            self.b)*sigdash((self.Wi*h[:-1]) + (self.Ui@x.T) + self.bi))\\\n",
    "                            + \\\n",
    "                            self.W*sig((self.Wi*h[:-1]) + (self.Ui@x.T) + self.bi) *\\\n",
    "                            sigdash((self.W*h[:-1]) + (self.U@x.T) + self.b)\n",
    "        \n",
    "\n",
    "\n",
    "               # dhtdht_1 => dh1/dh0, dh2dh1 ....dhn/dhn-1\n",
    "\n",
    "                dhtdht_1 = self.Wo*sigdash((self.Wo*h[:-1]) + (self.Uo@x.T) + self.bo)*sig(st[1:])\\\n",
    "                           + \\\n",
    "                           sig((self.Wo*h[:-1]) + (self.Uo@x.T) + self.bo)*sigdash(st[1:])*dStdht_1\n",
    "                    \n",
    "                dhtdht_1 = dhtdht_1.T\n",
    "\n",
    "                \n",
    "                \n",
    "                dLdh_n = -2*(y_train[z]-h[-1])    \n",
    "                \n",
    "                \n",
    "\n",
    "                dh_ndh_k = np.ones(x.shape[0])\n",
    "                dh_ndh_k[1:] = np.cumprod(dhtdht_1[1:][::-1])\n",
    "                dh_ndh_k = dh_ndh_k[::-1]\n",
    "                \n",
    "                \n",
    "                \n",
    "                dh_kdS_k = sig((self.Wo*h[:-1]) + (self.Uo@x.T) + self.bo) * sigdash(st[1:])\n",
    "                dh_kdS_k = np.squeeze(dh_kdS_k)\n",
    "                \n",
    "                \n",
    "                \n",
    "                dS_jdSj_1 = np.zeros(x.shape[0])\n",
    "                # dS_jdSj_1 => dS1/dS0 , dS2/dS1....\n",
    "                for i in range(x.shape[0]):\n",
    "                    dS_jdSj_1[i] = sigdash((self.Wf*h[i]) + (self.Uf@x[i,:].T) + self.bf) * self.Wf \\\n",
    "                                    * sig((self.Wo*h[i-1]) + (self.Uo@x[i-1,:].T) + self.bo) * \\\n",
    "                                    sigdash(st[i]) * st[i] \\\n",
    "                                    + \\\n",
    "                                    sig((self.Wf*h[i]) + (self.Uf@x[i,:].T) + self.bf)\\\n",
    "                                    + \\\n",
    "                                    sigdash((self.Wi*h[i]) + (self.Ui@x[i,:].T) + self.bi) * self.Wi \\\n",
    "                                    * sig((self.Wo*h[i-1]) + (self.Uo@x[i-1,:].T) + self.bo) * \\\n",
    "                                    sigdash(st[i]) * sig((self.W*h[i]) + (self.U@x[i,:].T) + self.b)\\\n",
    "                                    + \\\n",
    "                                    sig((self.Wi*h[i]) + (self.Ui@x[i,:].T) + self.bi) *\\\n",
    "                                    sigdash((self.W*h[i]) + (self.U@x[i,:].T) + self.b) * self.W *\\\n",
    "                                    sig((self.Wo*h[i-1]) + (self.Uo@x[i-1,:].T) + self.bo) *sigdash(st[i]) \n",
    "                    \n",
    "                \n",
    "                \n",
    "                dS2dW = sig((self.Wi*h[1]) + (self.Ui@x[0,:].T) + self.bi) *\\\n",
    "                        sigdash((self.W*h[i]) + (self.U@x[i,:].T) + self.b) * h[1]\n",
    "                dS1db = sig((self.Ui@x[0]) + self.bi) * sigdash((self.U@x[0])+self.b)\n",
    "                dS1dU = sig((self.Ui@x[0]) + self.bi) * sigdash((self.U@x[0])+self.b) * x[0]\n",
    "                \n",
    "                \n",
    "                \n",
    "                try:\n",
    "                    dLdW = np.sum(dLdh_n * dh_ndh_k[2:] * dh_kdS_k[2:] * np.cumprod(dS_jdSj_1[2:]) * dS2dW)\n",
    "                except IndexError:\n",
    "                    dLdW = 0\n",
    "                    \n",
    "                    \n",
    "                product = np.cumprod(dS_jdSj_1[1:])\n",
    "                \n",
    "                \n",
    "                try : \n",
    "                    initial = dLdh_n * dh_ndh_k[1:] * dh_kdS_k[1:]\n",
    "                except IndexError:\n",
    "                    initial = 0    \n",
    "                \n",
    "                \n",
    "                dLdb = np.sum(initial * product * dS1db)\n",
    "                product = np.squeeze(np.dstack([product]*2))\n",
    "                dLdU = np.sum(np.dstack([initial]*2) * product * dS1dU,axis=1)\n",
    "            \n",
    "                             \n",
    "                #Selective Write\n",
    "                dhndo_n = sig(st[-1])\n",
    "                do_t = sigdash((self.Wo*h[i-1]) + (self.Uo@x[i-1,:].T) + self.bo)\n",
    "                dhndWo = dhndo_n * h[-2] * do_t\n",
    "                dhndUo = dhndo_n * h[-1] * do_t\n",
    "                dhndbo = dhndo_n * do_t\n",
    "                \n",
    "                dLdWo = dLdh_n * dhndWo\n",
    "                dLdUo = dLdh_n * dhndUo\n",
    "                dLdbo = dLdh_n * dhndbo\n",
    "                \n",
    "                \n",
    "                #Selective Read\n",
    "                dhndo_n = sig(st[-1])\n",
    "                do_t = sigdash((self.Wo*h[i-1]) + (self.Uo@x[i-1,:].T) + self.bo)\n",
    "                dhndWo = dhndo_n * h[-2] * do_t\n",
    "                dhndUo = dhndo_n * h[-1] * do_t\n",
    "                dhndbo = dhndo_n * do_t\n",
    "                \n",
    "                dLdWo = dLdh_n * dhndWo\n",
    "                dLdUo = dLdh_n * dhndUo\n",
    "                dLdbo = dLdh_n * dhndbo\n",
    "                \n",
    "                \n",
    "                  \n",
    "                self.W -= lr * dLdW\n",
    "                self.U -= lr * dLdU\n",
    "                self.b -= lr * dLdb\n",
    "                self.Wo -= lr * dLdWo\n",
    "                self.Uo -= lr * dLdUo\n",
    "                self.bo -= lr * dLdbo\n",
    "                \n",
    "            self.df.append([epoch,self.MSE(X_train,y_train)])"
   ]
  },
  {
   "cell_type": "code",
   "execution_count": 236,
   "id": "9bb62578",
   "metadata": {},
   "outputs": [],
   "source": [
    "model = LSTM()"
   ]
  },
  {
   "cell_type": "code",
   "execution_count": 237,
   "id": "8cc08ffb",
   "metadata": {},
   "outputs": [
    {
     "data": {
      "application/vnd.jupyter.widget-view+json": {
       "model_id": "8db754edb8af4c90b47b2be9297f1aa4",
       "version_major": 2,
       "version_minor": 0
      },
      "text/plain": [
       "  0%|          | 0/10 [00:00<?, ?it/s]"
      ]
     },
     "metadata": {},
     "output_type": "display_data"
    }
   ],
   "source": [
    "model.train(X_train,y_train)"
   ]
  },
  {
   "cell_type": "code",
   "execution_count": 238,
   "id": "7d754e78",
   "metadata": {},
   "outputs": [
    {
     "data": {
      "text/plain": [
       "[<matplotlib.lines.Line2D at 0x7f1103cb7400>]"
      ]
     },
     "execution_count": 238,
     "metadata": {},
     "output_type": "execute_result"
    },
    {
     "data": {
      "image/png": "[encoded data removed]",
      "text/plain": [
       "<Figure size 640x480 with 1 Axes>"
      ]
     },
     "metadata": {},
     "output_type": "display_data"
    }
   ],
   "source": [
    "benchmark = model.df\n",
    "benchmark = np.array(benchmark)\n",
    "plt.plot(benchmark[:,0],benchmark[:,1])"
   ]
  },
  {
   "cell_type": "markdown",
   "id": "00633b08",
   "metadata": {},
   "source": [
    "# GRU"
   ]
  },
  {
   "cell_type": "markdown",
   "id": "35864fed",
   "metadata": {},
   "source": [
    "## Gates:\n",
    "$\n",
    "\\begin{align}\n",
    "o_t &= \\sigma(W_o S_{t-1}+U_o x_t + b_o)\\\\\n",
    "i_t &= \\sigma(W_i S_{t-1}+U_i x_t + b_i)\n",
    "\\end{align}\n",
    "$"
   ]
  },
  {
   "cell_type": "markdown",
   "id": "4fe72198",
   "metadata": {},
   "source": [
    "## States:\n",
    "$\n",
    "\\begin{align}\n",
    "\\tilde{S_t} &= \\sigma(W(o_t \\odot S_{t-1})+Ux_t+b)\\\\\n",
    "S_t &= (1-i_t)\\odot S_{t-1} + i_t \\odot \\tilde{S_t}\n",
    "\\end{align}\n",
    "$"
   ]
  },
  {
   "cell_type": "markdown",
   "id": "c317f164",
   "metadata": {},
   "source": []
  },
  {
   "cell_type": "code",
   "execution_count": 12,
   "id": "286b538b",
   "metadata": {},
   "outputs": [],
   "source": [
    "class GRU:\n",
    "    def __init__(self):\n",
    "        self.W = np.random.random(1)\n",
    "        self.Wo = np.random.random(1)\n",
    "        self.Wi = np.random.random(1)\n",
    "        self.U = np.random.random((1,X_train[0].shape[1]))\n",
    "        self.Uo = np.random.random((1,X_train[0].shape[1]))\n",
    "        self.Ui = np.random.random((1,X_train[0].shape[1]))\n",
    "        self.b = np.random.random(1)\n",
    "        self.bo = np.random.random(1)\n",
    "        self.bi = np.random.random(1)\n",
    "        \n",
    "    def _FP(self,x):\n",
    "        S = np.zeros(x.shape[0])\n",
    "        for t in range(x.shape[0]):\n",
    "            ot = sig((self.Wo*S[t-1]) + (self.Uo@x[t,:].T) + self.bo)\n",
    "            it = sig((self.Wi*S[t-1]) + (self.Ui@x[t,:].T) + self.bi)\n",
    "            stilde = sig(self.W * (ot * S[t-1])+(self.U@x[t,:])+ self.b)\n",
    "            S[t] = ((1-it)*S[t-1]) + (it*stilde)\n",
    "        return S\n",
    "    \n",
    "    def FP(self,x):\n",
    "        S = _FP(x)\n",
    "        return S[-1]\n",
    "    \n",
    "    def predict(self,X_testset):\n",
    "        output = np.zeros(len(X_testset))\n",
    "        for i in range(output.shape[0]):\n",
    "            output[i] = self.FP(X_testset[i])\n",
    "        return output         \n",
    "    \n",
    "    def MSE(self,X_testset,y_testset):\n",
    "        return np.mean((y_testset-self.predict(X_testset))**2)\n",
    "    \n",
    "    def train(self,X_train,y_train,epochs=None,lr=None):\n",
    "        if epochs is None:\n",
    "            epochs = 10\n",
    "        if lr is None:\n",
    "            lr=1e-2\n",
    "            \n",
    "        \n",
    "        for epoch in tqdm(range(epochs)):\n",
    "            \n",
    "            \n",
    "            for z in range(y_train.shape[0]):\n",
    "                \n",
    "                S = self._FP(X_train[z])\n",
    "                h = np.zeros(S.shape[0]+1)\n",
    "                h[1:] = S\n",
    "                x = X_train[z]\n",
    "                ot = sig((self.Wo*h[:-1]) + (self.Uo@x.T) + self.bo)\n",
    "                it = sig((self.Wi*h[:-1]) + (self.Ui@x.T) + self.bi)\n",
    "                \n",
    "                dotdSt_1 = sigdash((self.Wo*h[:-1]) + (self.Uo@x.T) + self.bo)*self.Wo\n",
    "                ditdSt_1 = sigdash((self.Wi*h[:-1]) + (self.Ui@x.T) + self.bi)*self.Wi\n",
    "                \n",
    "                \n",
    "                dStildSt_1 = sigdash((self.W*(S*ot)) + (self.U@x.T) + self.b)*self.W*((dotdSt_1*h[:-1])+ot)\n",
    "                dStdSt_1 = (1-it)-(h[:-1]*ditdSt_1)+ditdSt_1+(it*dStildSt_1)\n",
    "                \n",
    "                \n",
    "                dLdSn = -2*(y_train[z]-S[-1])\n",
    "                \n",
    "                #dLdW = dLdSn * np.cumprod(dStdSt_1)\n",
    "                try:\n",
    "                    i2 = sig((self.Wi*S[0]) + (self.Ui@x[1,:].T) + self.bi)\n",
    "                except IndexError:\n",
    "                    i2 = sig((self.Wi*S[0])  + self.bi)\n",
    "                    \n",
    "                try:\n",
    "                    dS2tildW = sigdash((self.W*(S[0]*ot[1])) + (self.U@x.T) + self.b) * (S[0]*ot[1])\n",
    "                except IndexError:\n",
    "                    dS2tildW = 0.0\n",
    "                    \n",
    "                dS2dW = i2 * dS2tildW\n",
    "                 \n",
    "                dLdW = np.sum(dLdSn * dS2dW * np.cumprod())"
   ]
  },
  {
   "cell_type": "code",
   "execution_count": 13,
   "id": "e7a2d931",
   "metadata": {},
   "outputs": [
    {
     "data": {
      "application/vnd.jupyter.widget-view+json": {
       "model_id": "f8470c95dad24f9e92beec4659774e7e",
       "version_major": 2,
       "version_minor": 0
      },
      "text/plain": [
       "  0%|          | 0/10 [00:00<?, ?it/s]"
      ]
     },
     "metadata": {},
     "output_type": "display_data"
    }
   ],
   "source": [
    "model = GRU()\n",
    "model.train(X_train,y_train)"
   ]
  },
  {
   "cell_type": "code",
   "execution_count": null,
   "id": "67193843",
   "metadata": {},
   "outputs": [],
   "source": []
  }
 ],
 "metadata": {
  "kernelspec": {
   "display_name": "Python 3 (ipykernel)",
   "language": "python",
   "name": "python3"
  },
  "language_info": {
   "codemirror_mode": {
    "name": "ipython",
    "version": 3
   },
   "file_extension": ".py",
   "mimetype": "text/x-python",
   "name": "python",
   "nbconvert_exporter": "python",
   "pygments_lexer": "ipython3",
   "version": "3.10.6"
  }
 },
 "nbformat": 4,
 "nbformat_minor": 5
}
