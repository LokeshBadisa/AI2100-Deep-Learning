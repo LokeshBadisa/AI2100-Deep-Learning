{
 "cells": [
  {
   "cell_type": "code",
   "execution_count": 1,
   "id": "0fd51dcd",
   "metadata": {},
   "outputs": [],
   "source": [
    "import numpy as np\n",
    "from tqdm.notebook import tqdm\n",
    "import random\n",
    "import torch\n",
    "import torch.nn as nn\n",
    "import matplotlib.pyplot as plt\n",
    "import pandas as pd"
   ]
  },
  {
   "cell_type": "code",
   "execution_count": 2,
   "id": "ea7a3dfb",
   "metadata": {},
   "outputs": [],
   "source": [
    "def sig(x):\n",
    "    return 1/(1+torch.exp(x))"
   ]
  },
  {
   "cell_type": "code",
   "execution_count": 3,
   "id": "5034cda1",
   "metadata": {},
   "outputs": [],
   "source": [
    "benchmark = []\n",
    "X_train = []\n",
    "X_val = []\n",
    "X_test = []\n",
    "y_train = torch.zeros(3000)\n",
    "y_val = torch.zeros(1000)\n",
    "y_test = torch.zeros(1000)"
   ]
  },
  {
   "cell_type": "code",
   "execution_count": 4,
   "id": "a9f4e523",
   "metadata": {},
   "outputs": [
    {
     "name": "stderr",
     "output_type": "stream",
     "text": [
      "/tmp/ipykernel_6913/135853960.py:11: UserWarning: Creating a tensor from a list of numpy.ndarrays is extremely slow. Please consider converting the list to a single numpy.ndarray with numpy.array() before converting to a tensor. (Triggered internally at ../torch/csrc/utils/tensor_new.cpp:230.)\n",
      "  y_train[i] = torch.sum(data[[pos],0])\n"
     ]
    }
   ],
   "source": [
    "#DataSet Creation \n",
    "for i in range(5000):\n",
    "    size = random.randint(2,9)\n",
    "    data = torch.rand((size,2))\n",
    "    pos2 = torch.zeros(size)\n",
    "    pos = np.random.randint(size,size=2)\n",
    "    pos2[pos]=1\n",
    "    data[:,1] = pos2\n",
    "    if i<3000:\n",
    "        X_train.append(data)\n",
    "        y_train[i] = torch.sum(data[[pos],0])\n",
    "    elif i>=3000 and i<4000:\n",
    "        X_val.append(data)\n",
    "        y_val[i-3000] = torch.sum(data[[pos],0])\n",
    "    else:\n",
    "        X_test.append(data)\n",
    "        y_test[i-4000] = torch.sum(data[[pos],0])"
   ]
  },
  {
   "cell_type": "markdown",
   "id": "c2961a28",
   "metadata": {},
   "source": [
    "## Baseline Model"
   ]
  },
  {
   "cell_type": "code",
   "execution_count": 25,
   "id": "8ddf9b9f",
   "metadata": {},
   "outputs": [
    {
     "data": {
      "text/plain": [
       "3000"
      ]
     },
     "execution_count": 25,
     "metadata": {},
     "output_type": "execute_result"
    }
   ],
   "source": [
    "y_train.shape[0]"
   ]
  },
  {
   "cell_type": "code",
   "execution_count": 32,
   "id": "88446b4f",
   "metadata": {},
   "outputs": [
    {
     "data": {
      "text/plain": [
       "torch.Size([3000])"
      ]
     },
     "execution_count": 32,
     "metadata": {},
     "output_type": "execute_result"
    }
   ],
   "source": [
    "y_train.shape"
   ]
  },
  {
   "cell_type": "code",
   "execution_count": 33,
   "id": "d38b2342",
   "metadata": {},
   "outputs": [
    {
     "data": {
      "text/plain": [
       "torch.Size([3000])"
      ]
     },
     "execution_count": 33,
     "metadata": {},
     "output_type": "execute_result"
    }
   ],
   "source": [
    "torch.ones(y_train.shape[0]).shape"
   ]
  },
  {
   "cell_type": "code",
   "execution_count": 39,
   "id": "d0a6c91e",
   "metadata": {},
   "outputs": [
    {
     "data": {
      "text/plain": [
       "tensor(0.2027)"
      ]
     },
     "execution_count": 39,
     "metadata": {},
     "output_type": "execute_result"
    }
   ],
   "source": [
    "loss_fn = nn.MSELoss()\n",
    "baseline_loss = loss_fn(torch.ones(y_train.shape[0]),y_train)\n",
    "baseline_loss"
   ]
  },
  {
   "cell_type": "markdown",
   "id": "3c5cd97b",
   "metadata": {},
   "source": [
    "# Elman RNN"
   ]
  },
  {
   "cell_type": "markdown",
   "id": "0eed3901",
   "metadata": {},
   "source": [
    "## States:\n",
    "$\n",
    "\\begin{align}\n",
    "h_t &= \\sigma(Ux_t + Wh_{t-1}+b)\\\\\n",
    "rnn_{out} &= Vh_t+b_y\n",
    "\\end{align}\n",
    "$"
   ]
  },
  {
   "cell_type": "code",
   "execution_count": 5,
   "id": "43ed932e",
   "metadata": {},
   "outputs": [],
   "source": [
    "#RNN Model\n",
    "class RNN(nn.Module):\n",
    "    def __init__(self):\n",
    "        super().__init__()  \n",
    "        self.U = nn.Parameter(torch.rand((1,X_train[0].shape[1])))\n",
    "        self.V = nn.Parameter(torch.rand(1))\n",
    "        self.W = nn.Parameter(torch.rand(1))\n",
    "        self.bh = nn.Parameter(torch.rand(1))\n",
    "        self.by = nn.Parameter(torch.rand(1))\n",
    "        self.df = []\n",
    "    \n",
    "    def FP(self,x):\n",
    "        h = torch.zeros(1)\n",
    "        for i in range(x.shape[0]):\n",
    "            innerval = (self.U@x[i,:].T) + (self.W*h) + self.bh\n",
    "            h = torch.tanh(innerval)[0]\n",
    "        return self.V*h + self.by\n",
    "    \n",
    "    def forward(self,X_testset):\n",
    "        output = torch.zeros(len(X_testset))\n",
    "        for i in range(output.shape[0]):\n",
    "            output[i] = self.FP(X_testset[i])\n",
    "        return output    "
   ]
  },
  {
   "cell_type": "code",
   "execution_count": 6,
   "id": "1bf4f523",
   "metadata": {},
   "outputs": [
    {
     "data": {
      "application/vnd.jupyter.widget-view+json": {
       "model_id": "3683322f1520473eb8c8de37637c67f5",
       "version_major": 2,
       "version_minor": 0
      },
      "text/plain": [
       "  0%|          | 0/50 [00:00<?, ?it/s]"
      ]
     },
     "metadata": {},
     "output_type": "display_data"
    },
    {
     "name": "stderr",
     "output_type": "stream",
     "text": [
      "/tmp/ipykernel_6913/3758407647.py:15: UserWarning: The use of `x.T` on tensors of dimension other than 2 to reverse their shape is deprecated and it will throw an error in a future release. Consider `x.mT` to transpose batches of matrices or `x.permute(*torch.arange(x.ndim - 1, -1, -1))` to reverse the dimensions of a tensor. (Triggered internally at ../aten/src/ATen/native/TensorShape.cpp:3277.)\n",
      "  innerval = (self.U@x[i,:].T) + (self.W*h) + self.bh\n"
     ]
    },
    {
     "name": "stdout",
     "output_type": "stream",
     "text": [
      "Loss: 0.30324700474739075\n",
      "Loss: 0.262381911277771\n",
      "Loss: 0.23221378028392792\n",
      "Loss: 0.2128310203552246\n",
      "Loss: 0.20352478325366974\n",
      "Loss: 0.2025274932384491\n",
      "Loss: 0.2069595903158188\n",
      "Loss: 0.2133513242006302\n",
      "Loss: 0.2186942994594574\n",
      "Loss: 0.22129052877426147\n",
      "Loss: 0.2208367884159088\n",
      "Loss: 0.217972531914711\n",
      "Loss: 0.21375665068626404\n",
      "Loss: 0.20928920805454254\n",
      "Loss: 0.2054816037416458\n",
      "Loss: 0.2029288113117218\n",
      "Loss: 0.20185330510139465\n",
      "Loss: 0.2021150141954422\n",
      "Loss: 0.20329010486602783\n",
      "Loss: 0.2048092782497406\n",
      "Loss: 0.2061208337545395\n",
      "Loss: 0.20682857930660248\n",
      "Loss: 0.2067648470401764\n",
      "Loss: 0.20598864555358887\n",
      "Loss: 0.2047266811132431\n",
      "Loss: 0.203285813331604\n",
      "Loss: 0.20196300745010376\n",
      "Loss: 0.20097216963768005\n",
      "Loss: 0.2003997415304184\n",
      "Loss: 0.20019543170928955\n",
      "Loss: 0.20019815862178802\n",
      "Loss: 0.2001880258321762\n",
      "Loss: 0.19994905591011047\n",
      "Loss: 0.19932420551776886\n",
      "Loss: 0.19824954867362976\n",
      "Loss: 0.1967633068561554\n",
      "Loss: 0.19499462842941284\n",
      "Loss: 0.19314074516296387\n",
      "Loss: 0.19143489003181458\n",
      "Loss: 0.1900920569896698\n",
      "Loss: 0.18920491635799408\n",
      "Loss: 0.18858319520950317\n",
      "Loss: 0.18768152594566345\n",
      "Loss: 0.18601788580417633\n",
      "Loss: 0.18376770615577698\n",
      "Loss: 0.18159809708595276\n",
      "Loss: 0.18002881109714508\n",
      "Loss: 0.17903651297092438\n",
      "Loss: 0.178187295794487\n",
      "Loss: 0.17707328498363495\n"
     ]
    }
   ],
   "source": [
    "model1 = RNN()\n",
    "RNN_curve = []\n",
    "loss_fn = nn.MSELoss()\n",
    "optimizer = torch.optim.Adam(model1.parameters(),lr=0.036)\n",
    "epochs = 50\n",
    "for epoch in tqdm(range(epochs)):\n",
    "    model1.train()\n",
    "    y_pred = model1(X_train)\n",
    "    loss = loss_fn(y_pred,y_train)\n",
    "    RNN_curve.append([epoch,loss.item()])\n",
    "    print(f\"Loss: {loss}\")\n",
    "    optimizer.zero_grad()\n",
    "    loss.backward()\n",
    "    optimizer.step()"
   ]
  },
  {
   "cell_type": "code",
   "execution_count": 7,
   "id": "07b5385c",
   "metadata": {},
   "outputs": [
    {
     "data": {
      "text/plain": [
       "[<matplotlib.lines.Line2D at 0x7fceabc5e950>]"
      ]
     },
     "execution_count": 7,
     "metadata": {},
     "output_type": "execute_result"
    },
    {
     "data": {
      "image/png": "[encoded data removed]",
      "text/plain": [
       "<Figure size 640x480 with 1 Axes>"
      ]
     },
     "metadata": {},
     "output_type": "display_data"
    }
   ],
   "source": [
    "RNN_curve = np.array(RNN_curve)\n",
    "plt.plot(RNN_curve[:,0],RNN_curve[:,1])"
   ]
  },
  {
   "cell_type": "code",
   "execution_count": 8,
   "id": "51faf4df",
   "metadata": {},
   "outputs": [
    {
     "name": "stdout",
     "output_type": "stream",
     "text": [
      "tensor(0.1920)\n"
     ]
    }
   ],
   "source": [
    "model1.eval()\n",
    "with torch.inference_mode():\n",
    "    y_pred = model1(X_test)\n",
    "    loss = loss_fn(y_pred,y_test)\n",
    "    print(loss)\n",
    "    benchmark.append([\"RNN\",loss.item()])"
   ]
  },
  {
   "cell_type": "markdown",
   "id": "af5c132c",
   "metadata": {},
   "source": [
    "# LSTM"
   ]
  },
  {
   "cell_type": "markdown",
   "id": "c22519c7",
   "metadata": {},
   "source": [
    "## Gates:\n",
    "$\n",
    "\\begin{align}\n",
    "o_t &= \\sigma(W_oh_{t-1} + U_ox_t + b_o)\\\\\n",
    "i_t &= \\sigma(W_ih_{t-1} + U_ix_t + b_i)\\\\\n",
    "f_t &= \\sigma(W_fh_{t-1} + U_fx_t + b_f)\n",
    "\\end{align}\n",
    "$"
   ]
  },
  {
   "cell_type": "markdown",
   "id": "c9a6c60d",
   "metadata": {},
   "source": [
    "## States:\n",
    "$\n",
    "\\begin{align}\n",
    "\\tilde{S_t} &= \\sigma(Wh_{t-1} + Ux_t + b)\\\\  \n",
    "S_t &= f_t\\odot S_{t-1} + i_t \\odot \\tilde{S_t}\\\\\n",
    "h_t &= o_t \\odot \\sigma(S_t)\n",
    "\\end{align}\n",
    "$"
   ]
  },
  {
   "cell_type": "code",
   "execution_count": 9,
   "id": "59b79171",
   "metadata": {},
   "outputs": [],
   "source": [
    "#LSTM Model\n",
    "class LSTM(nn.Module):\n",
    "    def __init__(self):\n",
    "        super().__init__() \n",
    "        self.W = nn.Parameter(torch.rand(1))\n",
    "        self.Wo = nn.Parameter(torch.rand(1))\n",
    "        self.Wi = nn.Parameter(torch.rand(1))\n",
    "        self.Wf = nn.Parameter(torch.rand(1))\n",
    "        self.U = nn.Parameter(torch.rand((1,X_train[0].shape[1])))\n",
    "        self.Uo = nn.Parameter(torch.rand((1,X_train[0].shape[1])))\n",
    "        self.Ui = nn.Parameter(torch.rand((1,X_train[0].shape[1])))\n",
    "        self.Uf = nn.Parameter(torch.rand((1,X_train[0].shape[1])))\n",
    "        self.b = nn.Parameter(torch.rand(1))\n",
    "        self.bo = nn.Parameter(torch.rand(1))\n",
    "        self.bi = nn.Parameter(torch.rand(1))\n",
    "        self.bf = nn.Parameter(torch.rand(1))\n",
    "        \n",
    "    def FP(self,x) :\n",
    "        h = torch.zeros(1)\n",
    "        st = torch.zeros(1)\n",
    "        for i in range(x.shape[0]):\n",
    "            #Gates\n",
    "            ot = sig((self.Wo*h) + (self.Uo@x[i,:].T) + self.bo)\n",
    "            ft = sig((self.Wf*h) + (self.Uf@x[i,:].T) + self.bf)\n",
    "            it = sig((self.Wi*h) + (self.Ui@x[i,:].T) + self.bi)    \n",
    "            \n",
    "            \n",
    "            #States\n",
    "            stTilda = sig((self.W*h) + (self.U@x[i,:].T) + self.b)\n",
    "            st = (ft * st) + (it * stTilda)\n",
    "            h = ot * sig(st)\n",
    "        return h\n",
    "    \n",
    "    def forward(self,X_testset):\n",
    "        output = torch.zeros(len(X_testset))\n",
    "        for i in range(output.shape[0]):\n",
    "            output[i] = self.FP(X_testset[i])\n",
    "        return output    "
   ]
  },
  {
   "cell_type": "code",
   "execution_count": 10,
   "id": "9bb62578",
   "metadata": {},
   "outputs": [],
   "source": [
    "model2 = LSTM()"
   ]
  },
  {
   "cell_type": "code",
   "execution_count": 11,
   "id": "fc38c1ea",
   "metadata": {},
   "outputs": [
    {
     "data": {
      "application/vnd.jupyter.widget-view+json": {
       "model_id": "dd6b2b359eec40b5a6305685a16945c1",
       "version_major": 2,
       "version_minor": 0
      },
      "text/plain": [
       "  0%|          | 0/50 [00:00<?, ?it/s]"
      ]
     },
     "metadata": {},
     "output_type": "display_data"
    },
    {
     "name": "stdout",
     "output_type": "stream",
     "text": [
      "Loss: 0.956705629825592\n",
      "Loss: 0.5885758399963379\n",
      "Loss: 0.4785230755805969\n",
      "Loss: 0.4632246792316437\n",
      "Loss: 0.4603295922279358\n",
      "Loss: 0.45958825945854187\n",
      "Loss: 0.4593524932861328\n",
      "Loss: 0.45926448702812195\n",
      "Loss: 0.4592272937297821\n",
      "Loss: 0.45920994877815247\n",
      "Loss: 0.45920121669769287\n",
      "Loss: 0.45919641852378845\n",
      "Loss: 0.45919373631477356\n",
      "Loss: 0.45919209718704224\n",
      "Loss: 0.45919108390808105\n",
      "Loss: 0.45919039845466614\n",
      "Loss: 0.4591899514198303\n",
      "Loss: 0.45918962359428406\n",
      "Loss: 0.45918941497802734\n",
      "Loss: 0.4591892957687378\n",
      "Loss: 0.45918911695480347\n",
      "Loss: 0.4591889977455139\n",
      "Loss: 0.45918896794319153\n",
      "Loss: 0.45918887853622437\n",
      "Loss: 0.459188848733902\n",
      "Loss: 0.4591887891292572\n",
      "Loss: 0.4591887891292572\n",
      "Loss: 0.4591887593269348\n",
      "Loss: 0.4591887593269348\n",
      "Loss: 0.4591887593269348\n",
      "Loss: 0.4591887295246124\n",
      "Loss: 0.4591887295246124\n",
      "Loss: 0.4591887295246124\n",
      "Loss: 0.45918864011764526\n",
      "Loss: 0.45918864011764526\n",
      "Loss: 0.45918864011764526\n",
      "Loss: 0.45918864011764526\n",
      "Loss: 0.45918864011764526\n",
      "Loss: 0.45918864011764526\n",
      "Loss: 0.45918864011764526\n",
      "Loss: 0.45918864011764526\n",
      "Loss: 0.45918864011764526\n",
      "Loss: 0.45918864011764526\n",
      "Loss: 0.45918864011764526\n",
      "Loss: 0.45918864011764526\n",
      "Loss: 0.45918864011764526\n",
      "Loss: 0.45918864011764526\n",
      "Loss: 0.45918864011764526\n",
      "Loss: 0.45918864011764526\n",
      "Loss: 0.45918864011764526\n"
     ]
    }
   ],
   "source": [
    "epochs = 50\n",
    "LSTM_curve = []\n",
    "loss_fn = nn.MSELoss()\n",
    "optimizer = torch.optim.Adam(model2.parameters(),lr=1)\n",
    "for epoch in tqdm(range(epochs)):\n",
    "    model2.train()\n",
    "    y_pred = model2(X_train)\n",
    "    loss = loss_fn(y_pred,y_train)\n",
    "    LSTM_curve.append([epoch,loss.item()])\n",
    "    print(f\"Loss: {loss}\")\n",
    "    optimizer.zero_grad()\n",
    "    loss.backward()\n",
    "    optimizer.step()"
   ]
  },
  {
   "cell_type": "code",
   "execution_count": 12,
   "id": "7d754e78",
   "metadata": {},
   "outputs": [
    {
     "data": {
      "text/plain": [
       "[<matplotlib.lines.Line2D at 0x7fceab0cae00>]"
      ]
     },
     "execution_count": 12,
     "metadata": {},
     "output_type": "execute_result"
    },
    {
     "data": {
      "image/png": "[encoded data removed]",
      "text/plain": [
       "<Figure size 640x480 with 1 Axes>"
      ]
     },
     "metadata": {},
     "output_type": "display_data"
    }
   ],
   "source": [
    "LSTM_curve = np.array(LSTM_curve)\n",
    "plt.plot(LSTM_curve[:,0],LSTM_curve[:,1])"
   ]
  },
  {
   "cell_type": "code",
   "execution_count": 13,
   "id": "df848fb8",
   "metadata": {},
   "outputs": [
    {
     "name": "stdout",
     "output_type": "stream",
     "text": [
      "tensor(0.4555)\n"
     ]
    }
   ],
   "source": [
    "model2.eval()\n",
    "with torch.inference_mode():\n",
    "    y_pred = model2(X_test)\n",
    "    loss = loss_fn(y_pred,y_test)\n",
    "    print(loss)\n",
    "    benchmark.append([\"LSTM\",loss.item()])"
   ]
  },
  {
   "cell_type": "markdown",
   "id": "00633b08",
   "metadata": {},
   "source": [
    "# GRU"
   ]
  },
  {
   "cell_type": "markdown",
   "id": "35864fed",
   "metadata": {},
   "source": [
    "## Gates:\n",
    "$\n",
    "\\begin{align}\n",
    "o_t &= \\sigma(W_o S_{t-1}+U_o x_t + b_o)\\\\\n",
    "i_t &= \\sigma(W_i S_{t-1}+U_i x_t + b_i)\n",
    "\\end{align}\n",
    "$"
   ]
  },
  {
   "cell_type": "markdown",
   "id": "4fe72198",
   "metadata": {},
   "source": [
    "## States:\n",
    "$\n",
    "\\begin{align}\n",
    "\\tilde{S_t} &= \\sigma(W(o_t \\odot S_{t-1})+Ux_t+b)\\\\\n",
    "S_t &= (1-i_t)\\odot S_{t-1} + i_t \\odot \\tilde{S_t}\n",
    "\\end{align}\n",
    "$"
   ]
  },
  {
   "cell_type": "code",
   "execution_count": 14,
   "id": "286b538b",
   "metadata": {},
   "outputs": [],
   "source": [
    "class GRU(nn.Module):\n",
    "    def __init__(self):\n",
    "        super().__init__()\n",
    "        self.W = nn.Parameter(torch.rand(1))\n",
    "        self.Wo = nn.Parameter(torch.rand(1))\n",
    "        self.Wi = nn.Parameter(torch.rand(1))\n",
    "        self.U = nn.Parameter(torch.rand((1,X_train[0].shape[1])))\n",
    "        self.Uo = nn.Parameter(torch.rand((1,X_train[0].shape[1])))\n",
    "        self.Ui = nn.Parameter(torch.rand((1,X_train[0].shape[1])))\n",
    "        self.b = nn.Parameter(torch.rand(1))\n",
    "        self.bo = nn.Parameter(torch.rand(1))\n",
    "        self.bi = nn.Parameter(torch.rand(1))\n",
    "        \n",
    "    def FP(self,x):\n",
    "        S = torch.zeros(1)\n",
    "        for t in range(x.shape[0]):\n",
    "            ot = sig((self.Wo*S) + (self.Uo@x[t,:].T) + self.bo)\n",
    "            it = sig((self.Wi*S) + (self.Ui@x[t,:].T) + self.bi)\n",
    "            stilde = sig(self.W * (ot * S)+(self.U@x[t,:])+ self.b)\n",
    "            S = ((1-it)*S) + (it*stilde)\n",
    "        return S\n",
    "    \n",
    "    def forward(self,X_testset):\n",
    "        output = torch.zeros(len(X_testset))\n",
    "        for i in range(output.shape[0]):\n",
    "            output[i] = self.FP(X_testset[i])\n",
    "        return output         "
   ]
  },
  {
   "cell_type": "code",
   "execution_count": 15,
   "id": "e7a2d931",
   "metadata": {},
   "outputs": [],
   "source": [
    "model3 = GRU()"
   ]
  },
  {
   "cell_type": "code",
   "execution_count": 16,
   "id": "67193843",
   "metadata": {},
   "outputs": [
    {
     "data": {
      "application/vnd.jupyter.widget-view+json": {
       "model_id": "a1cb079fc0ef4b659920c3e969e8356c",
       "version_major": 2,
       "version_minor": 0
      },
      "text/plain": [
       "  0%|          | 0/50 [00:00<?, ?it/s]"
      ]
     },
     "metadata": {},
     "output_type": "display_data"
    },
    {
     "name": "stdout",
     "output_type": "stream",
     "text": [
      "Loss: 0.9518084526062012\n",
      "Loss: 0.8633586168289185\n",
      "Loss: 0.760163426399231\n",
      "Loss: 0.6430841684341431\n",
      "Loss: 0.5185804963111877\n",
      "Loss: 0.4014222025871277\n",
      "Loss: 0.30943986773490906\n",
      "Loss: 0.2507660388946533\n",
      "Loss: 0.22041787207126617\n",
      "Loss: 0.2079586535692215\n",
      "Loss: 0.20393039286136627\n",
      "Loss: 0.20284594595432281\n",
      "Loss: 0.20260195434093475\n",
      "Loss: 0.20257411897182465\n",
      "Loss: 0.20259493589401245\n",
      "Loss: 0.2026214748620987\n",
      "Loss: 0.20264402031898499\n",
      "Loss: 0.20266135036945343\n",
      "Loss: 0.20267431437969208\n",
      "Loss: 0.2026839554309845\n",
      "Loss: 0.20269113779067993\n",
      "Loss: 0.20269662141799927\n",
      "Loss: 0.20270076394081116\n",
      "Loss: 0.20270393788814545\n",
      "Loss: 0.202706441283226\n",
      "Loss: 0.2027084082365036\n",
      "Loss: 0.20271000266075134\n",
      "Loss: 0.20271123945713043\n",
      "Loss: 0.202712282538414\n",
      "Loss: 0.20271308720111847\n",
      "Loss: 0.20271378755569458\n",
      "Loss: 0.20271435379981995\n",
      "Loss: 0.20271484553813934\n",
      "Loss: 0.20271524786949158\n",
      "Loss: 0.20271557569503784\n",
      "Loss: 0.2027159035205841\n",
      "Loss: 0.2027161419391632\n",
      "Loss: 0.20271636545658112\n",
      "Loss: 0.20271652936935425\n",
      "Loss: 0.20271670818328857\n",
      "Loss: 0.20271684229373932\n",
      "Loss: 0.20271696150302887\n",
      "Loss: 0.20271706581115723\n",
      "Loss: 0.20271717011928558\n",
      "Loss: 0.20271724462509155\n",
      "Loss: 0.20271731913089752\n",
      "Loss: 0.2027173936367035\n",
      "Loss: 0.20271745324134827\n",
      "Loss: 0.20271751284599304\n",
      "Loss: 0.20271752774715424\n"
     ]
    }
   ],
   "source": [
    "epochs = 50\n",
    "GRU_curve = []\n",
    "loss_fn = nn.MSELoss()\n",
    "optimizer = torch.optim.Adam(model3.parameters(),lr=0.2)\n",
    "for epoch in tqdm(range(epochs)):\n",
    "    model3.train()\n",
    "    y_pred = model3(X_train)\n",
    "    loss = loss_fn(y_pred,y_train)\n",
    "    GRU_curve.append([epoch,loss.item()])\n",
    "    print(f\"Loss: {loss}\")\n",
    "    optimizer.zero_grad()\n",
    "    loss.backward()\n",
    "    optimizer.step()"
   ]
  },
  {
   "cell_type": "code",
   "execution_count": 17,
   "id": "0f7c30e8",
   "metadata": {},
   "outputs": [
    {
     "data": {
      "text/plain": [
       "[<matplotlib.lines.Line2D at 0x7fceaafbbfd0>]"
      ]
     },
     "execution_count": 17,
     "metadata": {},
     "output_type": "execute_result"
    },
    {
     "data": {
      "image/png": "[encoded data removed]",
      "text/plain": [
       "<Figure size 640x480 with 1 Axes>"
      ]
     },
     "metadata": {},
     "output_type": "display_data"
    }
   ],
   "source": [
    "GRU_curve = np.array(GRU_curve)\n",
    "plt.plot(GRU_curve[:,0],GRU_curve[:,1])"
   ]
  },
  {
   "cell_type": "code",
   "execution_count": 18,
   "id": "77d32876",
   "metadata": {},
   "outputs": [
    {
     "name": "stdout",
     "output_type": "stream",
     "text": [
      "tensor(0.2167)\n"
     ]
    }
   ],
   "source": [
    "model3.eval()\n",
    "with torch.inference_mode():\n",
    "    y_pred = model3(X_test)\n",
    "    loss = loss_fn(y_pred,y_test)\n",
    "    print(loss)\n",
    "    benchmark.append([\"GRU\",loss.item()])"
   ]
  },
  {
   "cell_type": "code",
   "execution_count": 19,
   "id": "b37112fc",
   "metadata": {},
   "outputs": [
    {
     "data": {
      "text/html": [
       "<div>\n",
       "<style scoped>\n",
       "    .dataframe tbody tr th:only-of-type {\n",
       "        vertical-align: middle;\n",
       "    }\n",
       "\n",
       "    .dataframe tbody tr th {\n",
       "        vertical-align: top;\n",
       "    }\n",
       "\n",
       "    .dataframe thead th {\n",
       "        text-align: right;\n",
       "    }\n",
       "</style>\n",
       "<table border=\"1\" class=\"dataframe\">\n",
       "  <thead>\n",
       "    <tr style=\"text-align: right;\">\n",
       "      <th></th>\n",
       "      <th>Model</th>\n",
       "      <th>Test Loss</th>\n",
       "    </tr>\n",
       "  </thead>\n",
       "  <tbody>\n",
       "    <tr>\n",
       "      <th>0</th>\n",
       "      <td>RNN</td>\n",
       "      <td>0.191975</td>\n",
       "    </tr>\n",
       "    <tr>\n",
       "      <th>1</th>\n",
       "      <td>LSTM</td>\n",
       "      <td>0.455526</td>\n",
       "    </tr>\n",
       "    <tr>\n",
       "      <th>2</th>\n",
       "      <td>GRU</td>\n",
       "      <td>0.216716</td>\n",
       "    </tr>\n",
       "  </tbody>\n",
       "</table>\n",
       "</div>"
      ],
      "text/plain": [
       "  Model  Test Loss\n",
       "0   RNN   0.191975\n",
       "1  LSTM   0.455526\n",
       "2   GRU   0.216716"
      ]
     },
     "execution_count": 19,
     "metadata": {},
     "output_type": "execute_result"
    }
   ],
   "source": [
    "bm = pd.DataFrame(benchmark,columns=[\"Model\",\"Test Loss\"])\n",
    "bm"
   ]
  },
  {
   "cell_type": "code",
   "execution_count": 43,
   "id": "5625d808",
   "metadata": {},
   "outputs": [
    {
     "data": {
      "text/plain": [
       "<matplotlib.legend.Legend at 0x7fcea9791750>"
      ]
     },
     "execution_count": 43,
     "metadata": {},
     "output_type": "execute_result"
    },
    {
     "data": {
      "image/png": "[encoded data removed]",
      "text/plain": [
       "<Figure size 640x480 with 1 Axes>"
      ]
     },
     "metadata": {},
     "output_type": "display_data"
    }
   ],
   "source": [
    "plt.plot(RNN_curve[:,0],RNN_curve[:,1],label=\"RNN\")\n",
    "plt.plot(LSTM_curve[:,0],LSTM_curve[:,1],label=\"LSTM\")\n",
    "plt.plot(GRU_curve[:,0],GRU_curve[:,1],label=\"GRU\")\n",
    "plt.axhline(y=baseline_loss,c='red',label=\"Baseline Model\")\n",
    "plt.title(\"Loss vs Epoch\")\n",
    "plt.legend()"
   ]
  }
 ],
 "metadata": {
  "kernelspec": {
   "display_name": "Python 3 (ipykernel)",
   "language": "python",
   "name": "python3"
  },
  "language_info": {
   "codemirror_mode": {
    "name": "ipython",
    "version": 3
   },
   "file_extension": ".py",
   "mimetype": "text/x-python",
   "name": "python",
   "nbconvert_exporter": "python",
   "pygments_lexer": "ipython3",
   "version": "3.10.6"
  }
 },
 "nbformat": 4,
 "nbformat_minor": 5
}
